{
  "cells": [
    {
      "cell_type": "markdown",
      "metadata": {
        "id": "view-in-github",
        "colab_type": "text"
      },
      "source": [
        "<a href=\"https://colab.research.google.com/github/wutpppppppppppppppppp/Stocktradegym/blob/main/trademodel.ipynb\" target=\"_parent\"><img src=\"https://colab.research.google.com/assets/colab-badge.svg\" alt=\"Open In Colab\"/></a>"
      ]
    },
    {
      "cell_type": "code",
      "execution_count": null,
      "metadata": {
        "colab": {
          "background_save": true
        },
        "id": "VMJ7468J00Nq"
      },
      "outputs": [],
      "source": [
        "!pip install tensorflow stable-baselines3 gym_trading_env gymnasium\n",
        "# Improvement from gym -> gymnasium (newer version) stable-baselines -> stable-baselines3 gym-anytrading -> gym-trading-env"
      ]
    },
    {
      "cell_type": "code",
      "execution_count": null,
      "metadata": {
        "colab": {
          "background_save": true
        },
        "id": "mZXc0zfL00Nr"
      },
      "outputs": [],
      "source": [
        "import gymnasium as gym\n",
        "import gym_trading_env\n",
        "from stable_baselines3 import A2C\n",
        "import numpy as np\n",
        "import pandas as pd\n",
        "from matplotlib import pyplot as plt"
      ]
    },
    {
      "cell_type": "code",
      "execution_count": null,
      "metadata": {
        "colab": {
          "background_save": true
        },
        "id": "PJ3mvIsE00Ns"
      },
      "outputs": [],
      "source": [
        "# import CSV file containing open close high low and volume data of KBANK from marketwatch.com\n",
        "url = 'https://raw.githubusercontent.com/wutpppppppppppppppppp/Stocktradegym/main/Kbank_Stock.csv'\n",
        "df = pd.read_csv(url)"
      ]
    },
    {
      "cell_type": "code",
      "execution_count": null,
      "metadata": {
        "colab": {
          "background_save": true
        },
        "id": "8lyZ74Na00Nt"
      },
      "outputs": [],
      "source": [
        "df.head()"
      ]
    },
    {
      "cell_type": "code",
      "execution_count": null,
      "metadata": {
        "colab": {
          "background_save": true
        },
        "id": "a6MyVG6QJgCQ"
      },
      "outputs": [],
      "source": [
        "df.columns = [column.lower() for column in df.columns]\n",
        "df.head()"
      ]
    },
    {
      "cell_type": "code",
      "execution_count": null,
      "metadata": {
        "colab": {
          "background_save": true
        },
        "id": "uFSw-Fl0cZg6"
      },
      "outputs": [],
      "source": [
        "# clean the data that doesn't have value and change the data type of volume column to float instead of string.\n",
        "df.sort_index(inplace=True)\n",
        "df.dropna(inplace=True)\n",
        "df.drop_duplicates(inplace=True)\n",
        "df['volume'] = df['volume'].str.replace(',', '').astype(float)\n",
        "df.head()"
      ]
    },
    {
      "cell_type": "code",
      "execution_count": null,
      "metadata": {
        "colab": {
          "background_save": true
        },
        "id": "OOdcSXEY00Nu"
      },
      "outputs": [],
      "source": [
        "# change the data type of Date to datetime64\n",
        "df['date'] = pd.to_datetime(df['date'])\n",
        "print(df.dtypes)\n",
        "df.set_index('date',inplace=True)\n",
        "df.head()"
      ]
    },
    {
      "cell_type": "code",
      "execution_count": null,
      "metadata": {
        "colab": {
          "background_save": true
        },
        "id": "FL9QBIP6bE8x"
      },
      "outputs": [],
      "source": [
        "# create new data called feature_close feature_open feature_high feature_low feature_volume\n",
        "# df[\"feature_close\"] = df[\"close\"].pct_change()\n",
        "# df[\"feature_open\"] = df[\"open\"]/df[\"close\"]\n",
        "# df[\"feature_high\"] = df[\"high\"]/df[\"close\"]\n",
        "# df[\"feature_low\"] = df[\"low\"]/df[\"close\"]\n",
        "# df[\"feature_volume\"] = df[\"volume\"]/df[\"volume\"].rolling(7*24).max()\n",
        "df.dropna(inplace=True)\n",
        "df.head()"
      ]
    },
    {
      "cell_type": "markdown",
      "metadata": {
        "id": "sP61sUy0Z0mY"
      },
      "source": [
        "After setting up the data, it's time to create environment for our RL agent to interact with"
      ]
    },
    {
      "cell_type": "code",
      "execution_count": null,
      "metadata": {
        "colab": {
          "background_save": true
        },
        "id": "yZ7PR5hs00Nv"
      },
      "outputs": [],
      "source": [
        "def reward_function(history):\n",
        "        return np.log(history[\"portfolio_valuation\", -1] / history[\"portfolio_valuation\", -2])\n",
        "env = gym.make('TradingEnv',\n",
        "               name=\"KBank\",\n",
        "               df=df, # use \"df\" dataFrame\n",
        "               positions = [ -1, 0, 1], # -1 (=SHORT), 0(=OUT), +1 (=LONG)\n",
        "               trading_fees = 0.01/100, # 0.01% per stock buy / sell (Binance fees)\n",
        "               borrow_interest_rate= 0.0003/100, # 0.0003% per timestep (one timestep = 1h here)\n",
        "               portfolio_initial_value = 100,\n",
        "               reward_function = reward_function\n",
        "               )"
      ]
    },
    {
      "cell_type": "code",
      "execution_count": null,
      "metadata": {
        "colab": {
          "background_save": true
        },
        "id": "gdWRjQAo00Nw"
      },
      "outputs": [],
      "source": [
        "env.signal_features"
      ]
    },
    {
      "cell_type": "code",
      "execution_count": null,
      "metadata": {
        "colab": {
          "background_save": true
        },
        "id": "2Tp3FH-m00Nx"
      },
      "outputs": [],
      "source": [
        "env.prices"
      ]
    },
    {
      "cell_type": "markdown",
      "metadata": {
        "id": "wnJpxTEI00Ny"
      },
      "source": [
        "Build Environment"
      ]
    },
    {
      "cell_type": "code",
      "execution_count": null,
      "metadata": {
        "colab": {
          "background_save": true
        },
        "id": "uKU_mNb300N1"
      },
      "outputs": [],
      "source": [
        "# Run an episode until it ends :\n",
        "done, truncated = False, False\n",
        "observation, info = env.reset()\n",
        "while not done and not truncated:\n",
        "    # Pick a position by its index in your position list (=[-1, 0, 1])....usually something like : position_index = your_policy(observation)\n",
        "    position_index = env.action_space.sample() # At every timestep, pick a random position index from your position list (=[-1, 0, 1])\n",
        "    observation, reward, done, truncated, info = env.step(position_index)"
      ]
    },
    {
      "cell_type": "code",
      "execution_count": null,
      "metadata": {
        "colab": {
          "background_save": true
        },
        "id": "sErem6T00l_s"
      },
      "outputs": [],
      "source": [
        "env.save_for_render(dir = \"render_logs\")"
      ]
    },
    {
      "cell_type": "code",
      "execution_count": null,
      "metadata": {
        "colab": {
          "background_save": true
        },
        "id": "3Z6mAARZ00N3"
      },
      "outputs": [],
      "source": [
        "from gym_trading_env.renderer import Renderer\n",
        "renderer = Renderer(render_logs_dir=\"render_logs\")\n",
        "renderer.run()"
      ]
    }
  ],
  "metadata": {
    "colab": {
      "provenance": [],
      "include_colab_link": true
    },
    "kernelspec": {
      "display_name": "Python 3",
      "name": "python3"
    },
    "language_info": {
      "codemirror_mode": {
        "name": "ipython",
        "version": 3
      },
      "file_extension": ".py",
      "mimetype": "text/x-python",
      "name": "python",
      "nbconvert_exporter": "python",
      "pygments_lexer": "ipython3",
      "version": "3.7.9"
    }
  },
  "nbformat": 4,
  "nbformat_minor": 0
}